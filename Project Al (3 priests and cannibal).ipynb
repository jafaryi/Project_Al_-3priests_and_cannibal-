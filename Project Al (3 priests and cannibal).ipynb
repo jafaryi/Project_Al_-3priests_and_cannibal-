{
 "cells": [
  {
   "cell_type": "code",
   "execution_count": 1,
   "id": "0fb060dd-2e06-4130-a044-d70c86f15e5e",
   "metadata": {},
   "outputs": [],
   "source": [
    "from queue import PriorityQueue\n",
    "from collections import deque"
   ]
  },
  {
   "cell_type": "code",
   "execution_count": 2,
   "id": "305e892f-2fef-4250-b7a0-93fbeb2f9590",
   "metadata": {},
   "outputs": [],
   "source": [
    "initial_state = (3, 3, 0)\n",
    "goal_state = (0, 0, 1)"
   ]
  },
  {
   "cell_type": "code",
   "execution_count": 3,
   "id": "c5fa3382-8048-4045-a19e-c6ef132d15f7",
   "metadata": {},
   "outputs": [],
   "source": [
    "def is_valid_state(state):\n",
    "    priests_left, cannibals_left, boat_position = state\n",
    "    priests_right = 3 - priests_left\n",
    "    cannibals_right = 3 - cannibals_left\n",
    "\n",
    "    if (priests_left < cannibals_left and priests_left > 0) or (priests_right < cannibals_right and priests_right > 0):\n",
    "        return False\n",
    "\n",
    "    return True"
   ]
  },
  {
   "cell_type": "code",
   "execution_count": 4,
   "id": "1f9a9d48-064d-46ee-97a6-c18c927b2f5e",
   "metadata": {},
   "outputs": [],
   "source": [
    "def get_successors(state):\n",
    "    successors = []\n",
    "\n",
    "    for move in [(1, 0), (2, 0), (0, 1), (0, 2), (1, 1)]:\n",
    "        delta_p, delta_c = move\n",
    "        new_state = (\n",
    "            state[0] - delta_p * state[2],\n",
    "            state[1] - delta_c * state[2],\n",
    "            1 - state[2]\n",
    "        )\n",
    "\n",
    "        if 0 <= new_state[0] <= 3 and 0 <= new_state[1] <= 3 and is_valid_state(new_state):\n",
    "            successors.append(new_state)\n",
    "\n",
    "    return successors"
   ]
  },
  {
   "cell_type": "code",
   "execution_count": 5,
   "id": "9271bb50-7455-48f9-a2fb-1d9f09034b9a",
   "metadata": {},
   "outputs": [],
   "source": [
    "def h(state):\n",
    "    return state[0] + state[1]"
   ]
  },
  {
   "cell_type": "code",
   "execution_count": 6,
   "id": "4bf03099-ad5f-40f1-b188-18c17d21c674",
   "metadata": {},
   "outputs": [],
   "source": [
    "def dfs():\n",
    "    stack = deque([(initial_state, [])])\n",
    "\n",
    "    while stack:\n",
    "        current_state, path = stack.pop()\n",
    "\n",
    "        if current_state == goal_state:\n",
    "            return True, len(path), path + [current_state], len(path)\n",
    "\n",
    "        successors = get_successors(current_state)\n",
    "        for successor in successors:\n",
    "            stack.append((successor, path + [current_state]))\n",
    "\n",
    "    return False, 0, [], 0"
   ]
  },
  {
   "cell_type": "code",
   "execution_count": 7,
   "id": "55bcc1a4-3cd7-4f38-8563-50014f265498",
   "metadata": {},
   "outputs": [],
   "source": [
    "def bfs():\n",
    "    queue = deque([(initial_state, [])])\n",
    "\n",
    "    while queue:\n",
    "        current_state, path = queue.popleft()\n",
    "\n",
    "        if current_state == goal_state:\n",
    "            return True, len(path), path + [current_state], len(path)\n",
    "\n",
    "        successors = get_successors(current_state)\n",
    "        for successor in successors:\n",
    "            queue.append((successor, path + [current_state]))\n",
    "\n",
    "    return False, 0, [], 0"
   ]
  },
  {
   "cell_type": "code",
   "execution_count": 8,
   "id": "d77ad2c1-b06c-40b2-ba05-a9fe5e6f0232",
   "metadata": {},
   "outputs": [],
   "source": [
    "def ids():\n",
    "    depth_limit = 0\n",
    "\n",
    "    while True:\n",
    "        result, path, expanded_nodes = depth_limited_dfs(initial_state, depth_limit)\n",
    "        \n",
    "        if result == \"FOUND\":\n",
    "            return True, len(path), path, expanded_nodes\n",
    "        elif result == \"NOT_FOUND\":\n",
    "            depth_limit += 1\n",
    "        elif result == \"LIMIT_EXCEEDED\":\n",
    "            return False, 0, [], 0"
   ]
  },
  {
   "cell_type": "code",
   "execution_count": 9,
   "id": "7be5da93-9f6c-4086-883a-ebe48f8e4116",
   "metadata": {},
   "outputs": [],
   "source": [
    "def depth_limited_dfs(state, depth_limit):\n",
    "    return depth_limited_dfs_recursive(state, depth_limit, [], 0)"
   ]
  },
  {
   "cell_type": "code",
   "execution_count": 10,
   "id": "7a1ca399-a8f2-4baf-84c6-c2de44ee25e1",
   "metadata": {},
   "outputs": [],
   "source": [
    "def depth_limited_dfs_recursive(state, depth_limit, path, expanded_nodes):\n",
    "    expanded_nodes += 1\n",
    "\n",
    "    if state == goal_state:\n",
    "        return \"FOUND\", path + [state], expanded_nodes\n",
    "\n",
    "    if depth_limit == 0:\n",
    "        return \"LIMIT_EXCEEDED\", [], expanded_nodes\n",
    "\n",
    "    successors = get_successors(state)\n",
    "    for successor in successors:\n",
    "        result, new_path, expanded_nodes = depth_limited_dfs_recursive(successor, depth_limit - 1, path + [state], expanded_nodes)\n",
    "\n",
    "        if result == \"FOUND\":\n",
    "            return \"FOUND\", new_path, expanded_nodes\n",
    "\n",
    "    return \"NOT_FOUND\", [], expanded_nodes"
   ]
  },
  {
   "cell_type": "code",
   "execution_count": 11,
   "id": "5bd52ac2-3353-4145-a9db-8653d6421ea9",
   "metadata": {},
   "outputs": [],
   "source": [
    "def greedy():\n",
    "    frontier = PriorityQueue()\n",
    "    frontier.put((h(initial_state), 0, initial_state, []))\n",
    "\n",
    "    while not frontier.empty():\n",
    "        _, cost, current_state, path = frontier.get()\n",
    "\n",
    "        if current_state == goal_state:\n",
    "            return True, cost, path + [current_state], frontier.qsize()\n",
    "\n",
    "        successors = get_successors(current_state)\n",
    "        successors.sort(key=lambda s: h(s))\n",
    "        for successor in successors:\n",
    "            frontier.put((h(successor), cost + 1, successor, path + [current_state]))\n",
    "\n",
    "    return False, 0, [], 0"
   ]
  },
  {
   "cell_type": "code",
   "execution_count": 12,
   "id": "75608e9e-bd95-4d38-b7d9-8b5f9f1fc89c",
   "metadata": {},
   "outputs": [],
   "source": [
    "def a_star():\n",
    "    frontier = PriorityQueue()\n",
    "    frontier.put((0 + h(initial_state), 0, initial_state, []))\n",
    "\n",
    "    while not frontier.empty():\n",
    "        _, cost, current_state, path = frontier.get()\n",
    "\n",
    "        if current_state == goal_state:\n",
    "            return True, cost, path + [current_state], frontier.qsize()\n",
    "\n",
    "        successors = get_successors(current_state)\n",
    "        successors.sort(key=lambda s: h(s))\n",
    "        for successor in successors:\n",
    "            new_cost = cost + 1\n",
    "            frontier.put((new_cost + h(successor), new_cost, successor, path + [current_state]))\n",
    "\n",
    "    return False, 0, [], 0"
   ]
  },
  {
   "cell_type": "code",
   "execution_count": 13,
   "id": "fb5cad05-87ba-489d-be1a-4ecd02c44135",
   "metadata": {},
   "outputs": [],
   "source": [
    "def ida_star():\n",
    "    threshold = h(initial_state)\n",
    "\n",
    "    while True:\n",
    "        result, new_threshold, cost, path = depth_limited_search(initial_state, 0, threshold)\n",
    "        \n",
    "        if result == \"FOUND\":\n",
    "            return True, cost, path, 0\n",
    "        elif result == \"NOT_FOUND\":\n",
    "            return False, 0, [], 0\n",
    "\n",
    "        threshold = new_threshold"
   ]
  },
  {
   "cell_type": "code",
   "execution_count": 14,
   "id": "6e7930ce-5c79-43c6-b10d-5508627050d7",
   "metadata": {},
   "outputs": [],
   "source": [
    "def depth_limited_search(state, cost, threshold):\n",
    "    f = cost + h(state)\n",
    "\n",
    "    if f > threshold:\n",
    "        return \"NOT_FOUND\", f, 0, []\n",
    "\n",
    "    if state == goal_state:\n",
    "        return \"FOUND\", f, cost, [state]\n",
    "\n",
    "    min_threshold = float('inf')\n",
    "\n",
    "    successors = get_successors(state)\n",
    "    successors.sort(key=lambda s: h(s))\n",
    "    for successor in successors:\n",
    "        result, new_threshold, new_cost, new_path = depth_limited_search(successor, cost + 1, threshold)\n",
    "\n",
    "        if result == \"FOUND\":\n",
    "            return \"FOUND\", f, new_cost, [state] + new_path\n",
    "\n",
    "        min_threshold = min(min_threshold, new_threshold)\n",
    "\n",
    "    return \"NOT_FOUND\", min_threshold, 0, []"
   ]
  },
  {
   "cell_type": "code",
   "execution_count": 27,
   "id": "917ea735-772e-4b59-a59b-ca8b278320e7",
   "metadata": {},
   "outputs": [],
   "source": [
    "# Uncomment the method you want to use\n",
    "found, cost, path, expanded_nodes = dfs()\n",
    "# found, cost, path, expanded_nodes = bfs()\n",
    "# found, cost, path, expanded_nodes = ids()\n",
    "# found, cost, path, expanded_nodes = greedy()\n",
    "# found, cost, path, expanded_nodes = a_star()\n",
    "# found, cost, path, expanded_nodes = ida_star()"
   ]
  },
  {
   "cell_type": "code",
   "execution_count": 28,
   "id": "5af03e16-4aac-4bed-972f-552a6ea55390",
   "metadata": {},
   "outputs": [
    {
     "name": "stdout",
     "output_type": "stream",
     "text": [
      "Solution found!\n",
      "Cost: 7\n",
      "Path: [(3, 3, 0), (3, 3, 1), (2, 2, 0), (2, 2, 1), (1, 1, 0), (1, 1, 1), (0, 0, 0), (0, 0, 1)]\n",
      "Expanded Nodes: 7\n"
     ]
    }
   ],
   "source": [
    "if found:\n",
    "    print(\"Solution found!\")\n",
    "    print(\"Cost:\", cost)\n",
    "    print(\"Path:\", path)\n",
    "    print(\"Expanded Nodes:\", expanded_nodes)\n",
    "else:\n",
    "    print(\"No solution found.\")"
   ]
  },
  {
   "cell_type": "code",
   "execution_count": null,
   "id": "7467c2ce-8232-4bf8-8691-70d31ab3142e",
   "metadata": {},
   "outputs": [],
   "source": []
  }
 ],
 "metadata": {
  "kernelspec": {
   "display_name": "Python 3 (ipykernel)",
   "language": "python",
   "name": "python3"
  },
  "language_info": {
   "codemirror_mode": {
    "name": "ipython",
    "version": 3
   },
   "file_extension": ".py",
   "mimetype": "text/x-python",
   "name": "python",
   "nbconvert_exporter": "python",
   "pygments_lexer": "ipython3",
   "version": "3.10.13"
  }
 },
 "nbformat": 4,
 "nbformat_minor": 5
}
